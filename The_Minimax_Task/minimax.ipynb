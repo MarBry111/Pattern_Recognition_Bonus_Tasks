{
 "cells": [
  {
   "cell_type": "markdown",
   "metadata": {},
   "source": [
    "# Task 03 - MINIMAX\n",
    "## Pattern Recognition and Machine Learning"
   ]
  },
  {
   "cell_type": "code",
   "execution_count": 21,
   "metadata": {},
   "outputs": [
    {
     "name": "stdout",
     "output_type": "stream",
     "text": [
      "The autoreload extension is already loaded. To reload it, use:\n",
      "  %reload_ext autoreload\n"
     ]
    }
   ],
   "source": [
    "%load_ext autoreload\n",
    "%autoreload 2\n",
    "# uncomment following for interactive matplotlib\n",
    "# %matplotlib notebook\n",
    "from minimax import *\n",
    "import scipy.io\n",
    "import numpy as np\n",
    "import matplotlib.pyplot as plt\n",
    "import matplotlib.patches as patches\n",
    "import copy\n",
    "from PIL import Image"
   ]
  },
  {
   "cell_type": "markdown",
   "metadata": {},
   "source": [
    "#### Load data from *.npz files"
   ]
  },
  {
   "cell_type": "code",
   "execution_count": 25,
   "metadata": {},
   "outputs": [],
   "source": [
    "data = np.load(\"data_33rpz_03_minimax.npz\", allow_pickle=True)\n",
    "Alphabet = data[\"Alphabet\"]\n",
    "images_test = data[\"images_test\"].item()\n",
    "cont = data[\"cont\"].item()\n",
    "discrete = data[\"discrete\"].item()"
   ]
  },
  {
   "cell_type": "code",
   "execution_count": 44,
   "metadata": {},
   "outputs": [],
   "source": [
    "D1 = discrete['C'] # Chuck\n",
    "D2 = discrete['N'] # Norris\n",
    "letters = 'CN'\n",
    "q_minimax_discrete, risk_minimax_discrete = minmax_strategy_discrete(D1, D2)\n",
    "\n",
    "images_test_set, labels_test_set = create_test_set(images_test, letters)\n",
    "\n",
    "labels_estimated_discrete = classify_discrete(images_test_set, q_minimax_discrete)\n",
    "error_discrete = classification_error_discrete(images_test_set, labels_test_set, q_minimax_discrete)"
   ]
  },
  {
   "cell_type": "markdown",
   "metadata": {},
   "source": [
    "##  BONUS TASK\n",
    "\n",
    "Go through the chapter on non-Bayesian tasks in SH10 book [2], especially the parts discussing solution of the minimax task by linear programming (pages 25, 31, 35-38, 40-41, 46-47). Solve the above classification task using linear programming as described on page 47.\n",
    "\n",
    "### Hints:\n",
    "\n",
    "1. Work with the discrete measurements x\n",
    "2. Represent the sought strategy (classification function) as a table α, with $α(i,k)$ corresponding to the probability of classification of bin 'i' to class 'k' such that $α(i,k) >= 0$ and $sum_k α(i,k) = 1$.\n",
    "3. Reformulate the task in a matrix form according to equation 2.53 in SH10, page 47\n",
    "4. Solve the task numerically using scipy.optimize.linprog.\n",
    "5. Compare the obtained results with the results of the classification above.\n",
    "\n"
   ]
  },
  {
   "cell_type": "markdown",
   "metadata": {},
   "source": [
    "<b> 1. Work with the discrete measurements x </b>"
   ]
  },
  {
   "cell_type": "code",
   "execution_count": 27,
   "metadata": {},
   "outputs": [],
   "source": [
    "C = discrete['C'] # C\n",
    "N = discrete['N'] # N"
   ]
  },
  {
   "cell_type": "code",
   "execution_count": 28,
   "metadata": {},
   "outputs": [
    {
     "name": "stdout",
     "output_type": "stream",
     "text": [
      "bin: -10  \t 0.0 \t 0.0\n",
      "bin: -9  \t 0.0 \t 0.0\n",
      "bin: -8  \t 0.0 \t 0.0\n",
      "bin: -7  \t 0.014 \t 0.0\n",
      "bin: -6  \t 0.057 \t 0.0\n",
      "bin: -5  \t 0.329 \t 0.0\n",
      "bin: -4  \t 0.357 \t 0.0\n",
      "bin: -3  \t 0.129 \t 0.0\n",
      "bin: -2  \t 0.086 \t 0.0\n",
      "bin: -1  \t 0.029 \t 0.071\n",
      "bin: 0  \t 0.0 \t 0.443\n",
      "bin: 1  \t 0.0 \t 0.343\n",
      "bin: 2  \t 0.0 \t 0.1\n",
      "bin: 3  \t 0.0 \t 0.043\n",
      "bin: 4  \t 0.0 \t 0.0\n",
      "bin: 5  \t 0.0 \t 0.0\n",
      "bin: 6  \t 0.0 \t 0.0\n",
      "bin: 7  \t 0.0 \t 0.0\n",
      "bin: 8  \t 0.0 \t 0.0\n",
      "bin: 9  \t 0.0 \t 0.0\n",
      "bin: 10  \t 0.0 \t 0.0\n"
     ]
    }
   ],
   "source": [
    "for i in range(C['Prob'].shape[0]):\n",
    "    print('bin:',i-10,' \\t' , np.round_(C['Prob'][i], 3), '\\t', np.round_(N['Prob'][i],3) )"
   ]
  },
  {
   "cell_type": "code",
   "execution_count": 29,
   "metadata": {},
   "outputs": [
    {
     "data": {
      "image/png": "[encoded data removed]",
      "text/plain": [
       "<Figure size 432x288 with 1 Axes>"
      ]
     },
     "metadata": {
      "needs_background": "light"
     },
     "output_type": "display_data"
    }
   ],
   "source": [
    "#plt.scatter(np.arange(-10,11,1), M['Prob'])\n",
    "plt.bar(np.arange(-10,11,1), C['Prob'], width=0.8, alpha=0.75)\n",
    "#plt.scatter(np.arange(-10,11,1), D['Prob'])\n",
    "plt.bar(np.arange(-10,11,1), N['Prob'], width=0.8, alpha=0.75)\n",
    "plt.xticks(np.arange(-10,11,1, dtype = int))\n",
    "plt.xlabel('Bins')\n",
    "plt.ylabel(r'$p(x|k)$')\n",
    "plt.legend([r'$p(x|N)$', r'$p(x|C)$'])\n",
    "plt.show()"
   ]
  },
  {
   "cell_type": "markdown",
   "metadata": {},
   "source": [
    "<b>2. Represent the sought strategy (classification function) as a table α, with $α(i,k)$ corresponding to the probability of classification of bin 'i' to class 'k' such that $α(i,k) \\geq 0$ and $sum_k α(i,k) = 1$. </b>"
   ]
  },
  {
   "cell_type": "code",
   "execution_count": 30,
   "metadata": {},
   "outputs": [],
   "source": [
    "a = []\n",
    "for i in range(C['Prob'].shape[0]):\n",
    "    #if both probabilities are equal then 0.5 for each\n",
    "    if C['Prob'][i] == N['Prob'][i]:\n",
    "        a.append([0.5, 0.5])\n",
    "    #if one is 0 then another will be 1\n",
    "    elif C['Prob'][i] == 0 and N['Prob'][i] != 0:\n",
    "        a.append([0., 1.])\n",
    "    elif C['Prob'][i] != 0 and N['Prob'][i] == 0:\n",
    "        a.append([1., 0.])\n",
    "    #if both are not equal to 0 then i calculate:\n",
    "    #dividing probability of one by the sum of probabilities of both classes\n",
    "    elif C['Prob'][i] != 0 and N['Prob'][i] != 0:\n",
    "        p_C = C['Prob'][i]/(C['Prob'][i]+N['Prob'][i])\n",
    "        p_N = N['Prob'][i]/(C['Prob'][i]+N['Prob'][i])\n",
    "        a.append([p_C, p_N])\n",
    "a = np.array(a)"
   ]
  },
  {
   "cell_type": "code",
   "execution_count": 31,
   "metadata": {},
   "outputs": [
    {
     "data": {
      "text/plain": [
       "array([[0.5       , 0.5       ],\n",
       "       [0.5       , 0.5       ],\n",
       "       [0.5       , 0.5       ],\n",
       "       [1.        , 0.        ],\n",
       "       [1.        , 0.        ],\n",
       "       [1.        , 0.        ],\n",
       "       [1.        , 0.        ],\n",
       "       [1.        , 0.        ],\n",
       "       [1.        , 0.        ],\n",
       "       [0.28571427, 0.71428573],\n",
       "       [0.        , 1.        ],\n",
       "       [0.        , 1.        ],\n",
       "       [0.        , 1.        ],\n",
       "       [0.        , 1.        ],\n",
       "       [0.5       , 0.5       ],\n",
       "       [0.5       , 0.5       ],\n",
       "       [0.5       , 0.5       ],\n",
       "       [0.5       , 0.5       ],\n",
       "       [0.5       , 0.5       ],\n",
       "       [0.5       , 0.5       ],\n",
       "       [0.5       , 0.5       ]])"
      ]
     },
     "execution_count": 31,
     "metadata": {},
     "output_type": "execute_result"
    }
   ],
   "source": [
    "a"
   ]
  },
  {
   "cell_type": "markdown",
   "metadata": {},
   "source": [
    "<b> 3. Reformulate the task in a matrix form according to equation 2.53 in SH10, page 47\n",
    " </b> <br>\n",
    " $min \\space c$, <br>\n",
    " $\\tau(k) | c + \\sum_{x \\in X} \\alpha(x,k) p_{(X|K)}(x|k) \\geq 1$ <br>\n",
    " $t(x) | \\sum_{x \\in X} \\alpha(x,k) = 1$ , $x \\in X$, <br>\n",
    " $\\alpha(x,k) \\geq 0$ , $x \\in X$, $k \\in K$,"
   ]
  },
  {
   "cell_type": "markdown",
   "metadata": {},
   "source": [
    "$\\tau(k) | c \\geq 1 - \\sum_{x \\in X} \\alpha(x,k) p_{(X|K)}(x|k)$ <br>\n",
    "$1 - \\sum_{x \\in X} \\alpha(x,k) p_{(X|K)}(x|k) = bound_k$ <br>\n",
    "Bound for N:"
   ]
  },
  {
   "cell_type": "code",
   "execution_count": 32,
   "metadata": {},
   "outputs": [
    {
     "data": {
      "text/plain": [
       "0.9795918370387993"
      ]
     },
     "execution_count": 32,
     "metadata": {},
     "output_type": "execute_result"
    }
   ],
   "source": [
    "b_N =1 - np.sum(N['Prob']*a[:,0])\n",
    "b_N"
   ]
  },
  {
   "cell_type": "markdown",
   "metadata": {},
   "source": [
    "Bound for C:"
   ]
  },
  {
   "cell_type": "code",
   "execution_count": 33,
   "metadata": {},
   "outputs": [
    {
     "data": {
      "text/plain": [
       "0.9795918361340858"
      ]
     },
     "execution_count": 33,
     "metadata": {},
     "output_type": "execute_result"
    }
   ],
   "source": [
    "b_C =1 - np.sum(C['Prob']*a[:,1])\n",
    "b_C"
   ]
  },
  {
   "cell_type": "code",
   "execution_count": 34,
   "metadata": {},
   "outputs": [],
   "source": [
    "b = [-b_N, -b_C]"
   ]
  },
  {
   "cell_type": "markdown",
   "metadata": {},
   "source": [
    "$min \\space c$, <br>\n",
    "$ c \\geq bound_N$ = $ -c \\leq -bound_N$ <br>\n",
    "$ c \\geq bound_C$ = $ -c \\leq -bound_C$ "
   ]
  },
  {
   "cell_type": "code",
   "execution_count": 35,
   "metadata": {},
   "outputs": [],
   "source": [
    "c = [1]\n",
    "A = [[-1], [-1]]\n",
    "x0_bounds = (None, None)"
   ]
  },
  {
   "cell_type": "code",
   "execution_count": 36,
   "metadata": {},
   "outputs": [],
   "source": [
    "res = opt.linprog(c, A_ub=A, b_ub=b, bounds=[x0_bounds])"
   ]
  },
  {
   "cell_type": "code",
   "execution_count": 37,
   "metadata": {},
   "outputs": [
    {
     "data": {
      "text/plain": [
       "     con: array([], dtype=float64)\n",
       "     fun: 0.9795918370387993\n",
       " message: 'The solution was determined in presolve as there are no non-trivial constraints.'\n",
       "     nit: 0\n",
       "   slack: array([0.00000000e+00, 9.04713415e-10])\n",
       "  status: 0\n",
       " success: True\n",
       "       x: array([0.97959184])"
      ]
     },
     "execution_count": 37,
     "metadata": {},
     "output_type": "execute_result"
    }
   ],
   "source": [
    "c = res['x'][0]\n",
    "res"
   ]
  },
  {
   "cell_type": "markdown",
   "metadata": {},
   "source": [
    "$k^* = argmax_{k \\in K} (\\tau(k) p_{X|K}(x|k))$ <br>\n",
    "<br>\n",
    "$\\tau(k) = c + \\sum_{x \\in X} \\alpha(x,k) p_{(X|K)}(x|k) - 1$ <br>\n",
    "$\\tau(N) = c + bound_N - 1$ <br>\n",
    "$\\tau(C) = c + bound_C - 1$ <br>\n",
    "<br>\n",
    "In case with only two classes we compare $\\tau(N) p_{X|K}(x|N)$ and $\\tau(C) p_{X|K}(x|C)$ and chose such $k \\in \\{N, C\\}$ to have max value"
   ]
  },
  {
   "cell_type": "code",
   "execution_count": 41,
   "metadata": {},
   "outputs": [
    {
     "name": "stdout",
     "output_type": "stream",
     "text": [
      "k: [0 0 0 0 0 0 0 0 0 1 1 1 1 1 0 0 0 0 0 0 0]\n",
      "q: [0 0 0 0 0 0 0 0 0 1 1 1 1 1 0 0 0 0 0 0 0]\n"
     ]
    }
   ],
   "source": [
    "k = np.zeros((21,), dtype=np.int32)\n",
    "for i in range(21):\n",
    "    if (c + b_C - 1)*C['Prob'][i] < (c + b_N - 1)*N['Prob'][i]:\n",
    "        k[i] = 1\n",
    "print('k: {}'.format(k))\n",
    "print('q: {}'.format(q_minimax_discrete))"
   ]
  },
  {
   "cell_type": "code",
   "execution_count": 42,
   "metadata": {},
   "outputs": [],
   "source": [
    "labels_estimated_discrete = classify_discrete(images_test_set, k)\n",
    "error_bonus= classification_error_discrete(images_test_set, labels_test_set, k)"
   ]
  },
  {
   "cell_type": "code",
   "execution_count": 45,
   "metadata": {},
   "outputs": [
    {
     "name": "stdout",
     "output_type": "stream",
     "text": [
      "Error bonus: 0.0667\n",
      "Error discrete: 0.0667\n"
     ]
    },
    {
     "data": {
      "image/png": "[encoded data removed]",
      "text/plain": [
       "<Figure size 432x288 with 2 Axes>"
      ]
     },
     "metadata": {
      "needs_background": "light"
     },
     "output_type": "display_data"
    }
   ],
   "source": [
    "fig = plt.figure()\n",
    "show_classification(images_test_set, labels_estimated_discrete, letters)\n",
    "plt.suptitle('Classification results for minimax, discrete measurements BONUST TASK')\n",
    "# plt.savefig('minmax_classif_discrete_' + letters.lower() + '.png')\n",
    "plt.savefig('minmax_classif_discrete_bonus.png')\n",
    "print('Error bonus: {:.4f}'.format(error_bonus))\n",
    "print('Error discrete: {:.4f}'.format(error_discrete))"
   ]
  },
  {
   "cell_type": "code",
   "execution_count": null,
   "metadata": {},
   "outputs": [],
   "source": []
  }
 ],
 "metadata": {
  "kernelspec": {
   "display_name": "Python 3",
   "language": "python",
   "name": "python3"
  },
  "language_info": {
   "codemirror_mode": {
    "name": "ipython",
    "version": 3
   },
   "file_extension": ".py",
   "mimetype": "text/x-python",
   "name": "python",
   "nbconvert_exporter": "python",
   "pygments_lexer": "ipython3",
   "version": "3.7.3"
  },
  "pycharm": {
   "stem_cell": {
    "cell_type": "raw",
    "metadata": {
     "collapsed": false
    },
    "source": []
   }
  }
 },
 "nbformat": 4,
 "nbformat_minor": 2
}
